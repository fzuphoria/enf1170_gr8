{
 "cells": [
  {
   "cell_type": "code",
   "execution_count": null,
   "metadata": {
    "id": "ZametoulQj9u"
   },
   "outputs": [],
   "source": [
    "!git clone https://github.com/fzuphoria/enf1170_gr8.git"
   ]
  },
  {
   "cell_type": "code",
   "execution_count": null,
   "metadata": {
    "id": "5GS8Ef8lQp4f"
   },
   "outputs": [],
   "source": [
    "%cd /content/enf1170_gr8\n"
   ]
  },
  {
   "cell_type": "code",
   "execution_count": null,
   "metadata": {
    "id": "0F6WGgcdQkkD"
   },
   "outputs": [],
   "source": [
    "import pandas as pd\n",
    "\n",
    "#visualization tools\n",
    "import matplotlib.pyplot as plt\n",
    "\n",
    "from os import listdir\n",
    "from os.path import isfile, join"
   ]
  },
  {
   "cell_type": "code",
   "execution_count": null,
   "metadata": {
    "id": "MPjbacBSjp18"
   },
   "outputs": [],
   "source": [
    "import os\n",
    "steam_data = pd.read_csv('steam.csv')\n",
    "# Define a function to convert owners to exponential notation\n",
    "def convert_to_exponential(value):\n",
    "    numbers = value.split(\"-\")\n",
    "    result = ''\n",
    "    result =  \"{:.0e}\".format(float(numbers[0].replace(',', ''))) + '-'+  \"{:.0e}\".format(float(numbers[1].replace(',', '')))\n",
    "  \n",
    "    return result\n",
    "# get mean value of number of owners\n",
    "def convert_mean(value):\n",
    "    numbers = value.split(\"-\")\n",
    "    result = (int(numbers[0]) + int(numbers[1]))/2\n",
    "    return int(result)\n",
    "\n",
    "# Apply the function to the owners column\n",
    "steam_data['owners_exp'] = steam_data['owners'].apply(convert_to_exponential)\n",
    "steam_data['owners_mean'] = steam_data['owners'].apply(convert_mean)\n",
    "steam_data['genres'] = steam_data['genres'].str.lower().apply(lambda x: x.split(';')[0]) # convert lower and split get first\n",
    "steam_data['categories'] = steam_data['categories'].str.lower() # convert lower\n",
    "steam_data.head()"
   ]
  },
  {
   "cell_type": "code",
   "execution_count": null,
   "metadata": {
    "id": "VyppRBlJklFT"
   },
   "outputs": [],
   "source": [
    "steam_data.describe()\n"
   ]
  },
  {
   "cell_type": "code",
   "execution_count": null,
   "metadata": {
    "id": "-Poo3KEfzyG1"
   },
   "outputs": [],
   "source": [
    "# Group the games by publisher and calculate the sum of playtime\n",
    "total_playtime_by_publisher = steam_data.groupby('publisher')['average_playtime'].sum()\n",
    "\n",
    "# Sort the publishers based on total playtime in descending order\n",
    "sorted_publishers = total_playtime_by_publisher.sort_values(ascending=False)\n",
    "\n",
    "# Select the top N publishers to display in the plot (e.g., top 10)\n",
    "top_publishers = sorted_publishers.head(10)\n",
    "\n",
    "# Create a bar plot\n",
    "plt.figure(figsize=(12, 6))\n",
    "top_publishers.plot(kind='bar')\n",
    "plt.xlabel('Publisher')\n",
    "plt.ylabel('Total Playtime')\n",
    "plt.title('Most Played Games by Publisher')\n",
    "plt.xticks(rotation=45)\n",
    "plt.show()\n"
   ]
  },
  {
   "cell_type": "code",
   "execution_count": null,
   "metadata": {
    "id": "ThQXtdQqxlQd"
   },
   "outputs": [],
   "source": [
    "# Group the data by genre and calculate the sum of average playtime\n",
    "most_played_by_genre = steam_data.groupby('genres')['average_playtime'].mean()\n",
    "\n",
    "# Filter the genres with average playtime above 100 hours\n",
    "most_played_by_genre = most_played_by_genre[most_played_by_genre > 50]\n",
    "\n",
    "# Sort the genres based on total playtime in descending order\n",
    "most_played_by_genre = most_played_by_genre.sort_values(ascending=False)\n",
    "\n",
    "# Display the most played games by genre\n",
    "print(most_played_by_genre)"
   ]
  },
  {
   "cell_type": "code",
   "execution_count": null,
   "metadata": {
    "id": "uD_Auq1Gx_-t"
   },
   "outputs": [],
   "source": [
    "# Plot a bar chart\n",
    "plt.figure(figsize=(10, 6))\n",
    "most_played_by_genre.plot(kind='bar')\n",
    "\n",
    "plt.xlabel('Genre')\n",
    "plt.ylabel('Average Playtime')\n",
    "plt.title('Distribution of Playtime by Genre')\n",
    "plt.xticks(rotation=45)\n",
    "plt.show()"
   ]
  },
  {
   "cell_type": "code",
   "execution_count": null,
   "metadata": {
    "id": "uyzI1iEi8_oL"
   },
   "outputs": [],
   "source": [
    "plt.figure(figsize=(10, 6))\n",
    "most_played_by_genre.plot(kind='pie', autopct='%1.1f%%')\n",
    "\n",
    "plt.title('Distribution of Playtime by Genre')\n",
    "plt.ylabel('')\n",
    "plt.show()"
   ]
  },
  {
   "cell_type": "code",
   "execution_count": null,
   "metadata": {
    "id": "xNAB-HBM4jdE"
   },
   "outputs": [],
   "source": [
    "import numpy as np\n",
    "# Create a new column to categorize games support\n",
    "steam_data['controller_support'] = np.where(steam_data['categories'].str.contains('controller support'), True, False)\n",
    "\n",
    "# Group by game type and calculate the mean playtime\n",
    "average_playtime_by_controller_support= steam_data.groupby('controller_support')['owners_mean'].mean()\n",
    "# Plot a pie chart\n",
    "plt.figure(figsize=(6, 6))\n",
    "plt.pie(average_playtime_by_controller_support, labels=['No Controller Support', 'Controller Support'], autopct='%1.1f%%')\n",
    "plt.title('Distribution of Games by Controller Support')\n",
    "\n",
    "plt.show()"
   ]
  },
  {
   "cell_type": "code",
   "execution_count": null,
   "metadata": {
    "id": "uHQZzWE7p3PS"
   },
   "outputs": [],
   "source": [
    "# 0-20 , 20-50, 50 above parası az olanlara daha çok kişi almıştır.\n",
    "\n",
    "# Define price ranges\n",
    "price_ranges = ['0-10', '11-20', '21-30', '31-40', '41-50', '50+']\n",
    "\n",
    "# Categorize games based on price range\n",
    "steam_data['price_range'] = pd.cut(steam_data['price'], bins=[0, 10, 20, 30, 40, 50, float('inf')], labels=price_ranges)\n",
    "\n",
    "# Group by price range and calculate the sum of owners\n",
    "owners_by_price_range = steam_data.groupby('price_range')['owners_mean'].sum()\n",
    "\n",
    "# Display the result\n",
    "print(owners_by_price_range)"
   ]
  },
  {
   "cell_type": "code",
   "execution_count": null,
   "metadata": {
    "id": "Ht1ktNLhpznw"
   },
   "outputs": [],
   "source": [
    "\n",
    "plt.figure(figsize=(10, 12))\n",
    "\n",
    "# Plot the bar chart\n",
    "plt.bar(owners_by_price_range.index, owners_by_price_range.values)\n",
    "plt.xlabel('Price Range')\n",
    "plt.ylabel('Total Owners')\n",
    "plt.title('Comparison of Owners based on Price Ranges')\n",
    "plt.show()"
   ]
  },
  {
   "cell_type": "code",
   "execution_count": null,
   "metadata": {
    "id": "pXXOdVWX9iKm"
   },
   "outputs": [],
   "source": [
    "plt.figure(figsize=(10, 10))\n",
    "\n",
    "# Plot the pie chart\n",
    "plt.pie(owners_by_price_range.values, labels=owners_by_price_range.index, autopct='%1.1f%%')\n",
    "plt.title('Comparison of Owners based on Price Ranges')\n",
    "plt.show()\n"
   ]
  },
  {
   "cell_type": "code",
   "execution_count": null,
   "metadata": {
    "id": "gjH1-4tPwWip"
   },
   "outputs": [],
   "source": [
    "'''\n",
    "The release date (year) of a game on Steam has an impact on its popularity, \n",
    "as measured by the number of positive user reviews, with more recent games receiving higher ratings compared to older games.\n",
    "'''\n",
    "steam_data['release_date'] = pd.to_datetime(steam_data['release_date'])\n",
    "\n",
    "# Group by release date and calculate the mean positive ratings\n",
    "average_positive_ratings_by_release_date = steam_data.groupby(pd.Grouper(key='release_date', freq='1Y'))['positive_ratings'].mean()\n",
    "\n",
    "# Create a bar plot\n",
    "plt.figure(figsize=(10, 6))\n",
    "average_positive_ratings_by_release_date.plot(kind='bar')\n",
    "plt.xlabel('Release Date')\n",
    "plt.ylabel('Positive Ratings')\n",
    "plt.title('Positive Ratings for Release Date (1-year intervals)')\n",
    "plt.xticks(rotation=45)\n",
    "\n",
    "# Modify x-axis tick labels\n",
    "tick_labels = [str(label.year) for label in average_positive_ratings_by_release_date.index]\n",
    "plt.xticks(range(len(tick_labels)), tick_labels)\n",
    "\n",
    "plt.show()"
   ]
  },
  {
   "cell_type": "code",
   "execution_count": null,
   "metadata": {
    "id": "FaHgoa2Wzkx0"
   },
   "outputs": [],
   "source": [
    "'''\n",
    "The release date (year) of a game on Steam has an impact on its popularity, \n",
    "as measured by the number of positive user reviews, with more recent games receiving higher ratings compared to older games.\n",
    "'''\n",
    "steam_data['release_date'] = pd.to_datetime(steam_data['release_date'])\n",
    "\n",
    "# Group by release date and calculate the mean positive ratings\n",
    "average_positive_ratings_by_release_date = steam_data.groupby(pd.Grouper(key='release_date', freq='1Y'))['negative_ratings'].mean()\n",
    "\n",
    "# Create a bar plot\n",
    "plt.figure(figsize=(10, 6))\n",
    "average_positive_ratings_by_release_date.plot(kind='bar')\n",
    "plt.xlabel('Release Date')\n",
    "plt.ylabel('Negative Ratings')\n",
    "plt.title('Negative Ratings for Release Date (1-year intervals)')\n",
    "plt.xticks(rotation=45)\n",
    "\n",
    "# Modify x-axis tick labels\n",
    "tick_labels = [str(label.year) for label in average_positive_ratings_by_release_date.index]\n",
    "plt.xticks(range(len(tick_labels)), tick_labels)\n",
    "\n",
    "plt.show()"
   ]
  },
  {
   "cell_type": "code",
   "execution_count": null,
   "metadata": {
    "id": "513tInOI0kAo"
   },
   "outputs": [],
   "source": [
    "'''\n",
    "The platform on which a game is available on Steam affects its popularity,\n",
    " as measured by the number of positive user reviews. Games available on multiple platforms\n",
    " tend to receive more positive ratings compared to games exclusive to a single platform\n",
    "'''\n",
    "# Group by number of platforms and calculate the mean positive ratings\n",
    "average_positive_ratings_by_platforms = steam_data.groupby('platforms')['positive_ratings'].mean()\n",
    "\n",
    "# Create a bar plot\n",
    "plt.figure(figsize=(10, 6))\n",
    "average_positive_ratings_by_platforms.plot(kind='bar')\n",
    "plt.xlabel('Number of Platforms')\n",
    "plt.ylabel('Average Positive Ratings')\n",
    "plt.title('Average Positive Ratings by Number of Platforms')\n",
    "plt.xticks(rotation=45)\n",
    "\n",
    "plt.show()\n"
   ]
  },
  {
   "cell_type": "code",
   "execution_count": null,
   "metadata": {
    "id": "DJQEQOjR-Knv"
   },
   "outputs": [],
   "source": [
    "plt.figure(figsize=(10, 10))\n",
    "\n",
    "# Plot the pie chart\n",
    "plt.pie(average_positive_ratings_by_platforms, labels=average_positive_ratings_by_platforms.index, autopct='%1.1f%%')\n",
    "plt.title('Average Positive Ratings by Number of Platforms')\n",
    "plt.show()\n"
   ]
  },
  {
   "cell_type": "code",
   "execution_count": null,
   "metadata": {
    "id": "enR54S_X1rcG"
   },
   "outputs": [],
   "source": [
    "'''\n",
    "\"The presence of multiplayer functionality in a game on Steam is associated with\n",
    " higher average playtime compared to single-player games.\"\n",
    "\n",
    "'''\n",
    "import numpy as np\n",
    "\n",
    "# Create a new column to categorize games as multiplayer or single-player\n",
    "steam_data['game_type'] = np.where(steam_data['steamspy_tags'].str.contains('Multiplayer'), 'Multiplayer', 'Single-player')\n",
    "\n",
    "# Group by game type and calculate the mean playtime\n",
    "average_playtime_by_game_type = steam_data.groupby('game_type')['average_playtime'].mean()\n",
    "\n",
    "# Create a bar plot\n",
    "plt.figure(figsize=(10, 6))\n",
    "average_playtime_by_game_type.plot(kind='bar')\n",
    "plt.xlabel('Game Type')\n",
    "plt.ylabel('Average Playtime')\n",
    "plt.title('Average Playtime by Game Type')\n",
    "plt.xticks(rotation=0)\n",
    "\n",
    "plt.show()\n"
   ]
  },
  {
   "cell_type": "code",
   "execution_count": null,
   "metadata": {
    "id": "Rm-xT7u2-k1z"
   },
   "outputs": [],
   "source": [
    "plt.figure(figsize=(6, 6))\n",
    "\n",
    "# Plot the pie chart\n",
    "plt.pie(average_playtime_by_game_type, labels=average_playtime_by_game_type.index, autopct='%1.1f%%')\n",
    "plt.title('Average Playtime by Game Type')\n",
    "\n",
    "plt.show()\n"
   ]
  }
 ],
 "metadata": {
  "accelerator": "GPU",
  "colab": {
   "gpuType": "T4",
   "machine_shape": "hm",
   "provenance": []
  },
  "gpuClass": "standard",
  "kernelspec": {
   "display_name": "Python 3 (ipykernel)",
   "language": "python",
   "name": "python3"
  },
  "language_info": {
   "codemirror_mode": {
    "name": "ipython",
    "version": 3
   },
   "file_extension": ".py",
   "mimetype": "text/x-python",
   "name": "python",
   "nbconvert_exporter": "python",
   "pygments_lexer": "ipython3",
   "version": "3.10.9"
  }
 },
 "nbformat": 4,
 "nbformat_minor": 1
}
